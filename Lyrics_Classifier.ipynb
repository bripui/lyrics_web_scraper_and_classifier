{
 "cells": [
  {
   "cell_type": "code",
   "execution_count": 99,
   "metadata": {},
   "outputs": [],
   "source": [
    "import pandas as pd\n",
    "import seaborn as sns\n",
    "import pickle\n",
    "import matplotlib.pyplot as plt\n",
    "\n",
    "from sklearn.ensemble import RandomForestClassifier\n",
    "\n",
    "from sklearn.feature_extraction.text import CountVectorizer\n",
    "from sklearn.feature_extraction.text import TfidfVectorizer\n",
    "from sklearn.compose import ColumnTransformer\n",
    "from sklearn.pipeline import make_pipeline\n",
    "from sklearn.model_selection import train_test_split\n",
    "from sklearn.model_selection import cross_validate\n",
    "from sklearn.model_selection  import GridSearchCV\n",
    "from sklearn import metrics"
   ]
  },
  {
   "cell_type": "code",
   "execution_count": 111,
   "metadata": {},
   "outputs": [],
   "source": [
    "df = pd.read_csv('./data/html/all_lyrics.csv')"
   ]
  },
  {
   "cell_type": "code",
   "execution_count": 112,
   "metadata": {},
   "outputs": [
    {
     "data": {
      "text/html": [
       "<div>\n",
       "<style scoped>\n",
       "    .dataframe tbody tr th:only-of-type {\n",
       "        vertical-align: middle;\n",
       "    }\n",
       "\n",
       "    .dataframe tbody tr th {\n",
       "        vertical-align: top;\n",
       "    }\n",
       "\n",
       "    .dataframe thead th {\n",
       "        text-align: right;\n",
       "    }\n",
       "</style>\n",
       "<table border=\"1\" class=\"dataframe\">\n",
       "  <thead>\n",
       "    <tr style=\"text-align: right;\">\n",
       "      <th></th>\n",
       "      <th>artist</th>\n",
       "      <th>song_name</th>\n",
       "      <th>songtext</th>\n",
       "    </tr>\n",
       "  </thead>\n",
       "  <tbody>\n",
       "    <tr>\n",
       "      <th>0</th>\n",
       "      <td>System_of_a_Down</td>\n",
       "      <td>Holy_Mountains</td>\n",
       "      <td>can you feel their haunting presence? can you ...</td>\n",
       "    </tr>\n",
       "    <tr>\n",
       "      <th>1</th>\n",
       "      <td>Red_Hot_Chili_Peppers</td>\n",
       "      <td>Get_Up_and_Jump</td>\n",
       "      <td>get up and jump, get up and jump get up, get u...</td>\n",
       "    </tr>\n",
       "    <tr>\n",
       "      <th>2</th>\n",
       "      <td>Red_Hot_Chili_Peppers</td>\n",
       "      <td>Minor_Thing</td>\n",
       "      <td>i change the key from c to d  you see to me it...</td>\n",
       "    </tr>\n",
       "    <tr>\n",
       "      <th>3</th>\n",
       "      <td>Lady_Gaga</td>\n",
       "      <td>Aura</td>\n",
       "      <td>i killed my former and left her in the trunk o...</td>\n",
       "    </tr>\n",
       "    <tr>\n",
       "      <th>4</th>\n",
       "      <td>Lady_Gaga</td>\n",
       "      <td>Million_Reasons</td>\n",
       "      <td>you are giving me a million reasons to let you...</td>\n",
       "    </tr>\n",
       "  </tbody>\n",
       "</table>\n",
       "</div>"
      ],
      "text/plain": [
       "                  artist        song_name  \\\n",
       "0       System_of_a_Down   Holy_Mountains   \n",
       "1  Red_Hot_Chili_Peppers  Get_Up_and_Jump   \n",
       "2  Red_Hot_Chili_Peppers      Minor_Thing   \n",
       "3              Lady_Gaga             Aura   \n",
       "4              Lady_Gaga  Million_Reasons   \n",
       "\n",
       "                                            songtext  \n",
       "0  can you feel their haunting presence? can you ...  \n",
       "1  get up and jump, get up and jump get up, get u...  \n",
       "2  i change the key from c to d  you see to me it...  \n",
       "3  i killed my former and left her in the trunk o...  \n",
       "4  you are giving me a million reasons to let you...  "
      ]
     },
     "execution_count": 112,
     "metadata": {},
     "output_type": "execute_result"
    }
   ],
   "source": [
    "df.head()"
   ]
  },
  {
   "cell_type": "code",
   "execution_count": 114,
   "metadata": {},
   "outputs": [
    {
     "data": {
      "text/html": [
       "<div>\n",
       "<style scoped>\n",
       "    .dataframe tbody tr th:only-of-type {\n",
       "        vertical-align: middle;\n",
       "    }\n",
       "\n",
       "    .dataframe tbody tr th {\n",
       "        vertical-align: top;\n",
       "    }\n",
       "\n",
       "    .dataframe thead th {\n",
       "        text-align: right;\n",
       "    }\n",
       "</style>\n",
       "<table border=\"1\" class=\"dataframe\">\n",
       "  <thead>\n",
       "    <tr style=\"text-align: right;\">\n",
       "      <th></th>\n",
       "      <th>song_name</th>\n",
       "      <th>songtext</th>\n",
       "    </tr>\n",
       "    <tr>\n",
       "      <th>artist</th>\n",
       "      <th></th>\n",
       "      <th></th>\n",
       "    </tr>\n",
       "  </thead>\n",
       "  <tbody>\n",
       "    <tr>\n",
       "      <th>Lady_Gaga</th>\n",
       "      <td>123</td>\n",
       "      <td>123</td>\n",
       "    </tr>\n",
       "    <tr>\n",
       "      <th>Red_Hot_Chili_Peppers</th>\n",
       "      <td>165</td>\n",
       "      <td>165</td>\n",
       "    </tr>\n",
       "    <tr>\n",
       "      <th>System_of_a_Down</th>\n",
       "      <td>60</td>\n",
       "      <td>60</td>\n",
       "    </tr>\n",
       "  </tbody>\n",
       "</table>\n",
       "</div>"
      ],
      "text/plain": [
       "                       song_name  songtext\n",
       "artist                                    \n",
       "Lady_Gaga                    123       123\n",
       "Red_Hot_Chili_Peppers        165       165\n",
       "System_of_a_Down              60        60"
      ]
     },
     "execution_count": 114,
     "metadata": {},
     "output_type": "execute_result"
    }
   ],
   "source": [
    "df.groupby('artist').count()"
   ]
  },
  {
   "cell_type": "code",
   "execution_count": 115,
   "metadata": {},
   "outputs": [
    {
     "data": {
      "image/png": "[encoded data removed]",
      "text/plain": [
       "<Figure size 432x288 with 1 Axes>"
      ]
     },
     "metadata": {
      "needs_background": "light"
     },
     "output_type": "display_data"
    }
   ],
   "source": [
    "sns.countplot(x='artist', data=df, palette='flare')\n",
    "plt.xlabel(' ')\n",
    "sns.despine()\n",
    "\n",
    "plt.savefig('./output/song_count.jpg')"
   ]
  },
  {
   "cell_type": "code",
   "execution_count": 116,
   "metadata": {},
   "outputs": [
    {
     "data": {
      "text/html": [
       "<div>\n",
       "<style scoped>\n",
       "    .dataframe tbody tr th:only-of-type {\n",
       "        vertical-align: middle;\n",
       "    }\n",
       "\n",
       "    .dataframe tbody tr th {\n",
       "        vertical-align: top;\n",
       "    }\n",
       "\n",
       "    .dataframe thead th {\n",
       "        text-align: right;\n",
       "    }\n",
       "</style>\n",
       "<table border=\"1\" class=\"dataframe\">\n",
       "  <thead>\n",
       "    <tr style=\"text-align: right;\">\n",
       "      <th></th>\n",
       "      <th>word_count</th>\n",
       "    </tr>\n",
       "    <tr>\n",
       "      <th>artist</th>\n",
       "      <th></th>\n",
       "    </tr>\n",
       "  </thead>\n",
       "  <tbody>\n",
       "    <tr>\n",
       "      <th>Lady_Gaga</th>\n",
       "      <td>328.284553</td>\n",
       "    </tr>\n",
       "    <tr>\n",
       "      <th>Red_Hot_Chili_Peppers</th>\n",
       "      <td>271.333333</td>\n",
       "    </tr>\n",
       "    <tr>\n",
       "      <th>System_of_a_Down</th>\n",
       "      <td>226.366667</td>\n",
       "    </tr>\n",
       "  </tbody>\n",
       "</table>\n",
       "</div>"
      ],
      "text/plain": [
       "                       word_count\n",
       "artist                           \n",
       "Lady_Gaga              328.284553\n",
       "Red_Hot_Chili_Peppers  271.333333\n",
       "System_of_a_Down       226.366667"
      ]
     },
     "execution_count": 116,
     "metadata": {},
     "output_type": "execute_result"
    }
   ],
   "source": [
    "df['word_count'] = [len(text.split()) for text in df['songtext']]\n",
    "df.groupby('artist').mean('word_count')"
   ]
  },
  {
   "cell_type": "code",
   "execution_count": 117,
   "metadata": {},
   "outputs": [
    {
     "data": {
      "image/png": "[encoded data removed]",
      "text/plain": [
       "<Figure size 432x288 with 1 Axes>"
      ]
     },
     "metadata": {
      "needs_background": "light"
     },
     "output_type": "display_data"
    }
   ],
   "source": [
    "sns.barplot(x='artist', y='word_count', data=df, palette='flare', capsize=.2)\n",
    "plt.xlabel(' ')\n",
    "plt.ylabel('mean word count')\n",
    "sns.despine()\n",
    "\n",
    "plt.savefig('./output/mean_word_count.jpg')"
   ]
  },
  {
   "cell_type": "code",
   "execution_count": 118,
   "metadata": {},
   "outputs": [
    {
     "data": {
      "text/html": [
       "<div>\n",
       "<style scoped>\n",
       "    .dataframe tbody tr th:only-of-type {\n",
       "        vertical-align: middle;\n",
       "    }\n",
       "\n",
       "    .dataframe tbody tr th {\n",
       "        vertical-align: top;\n",
       "    }\n",
       "\n",
       "    .dataframe thead th {\n",
       "        text-align: right;\n",
       "    }\n",
       "</style>\n",
       "<table border=\"1\" class=\"dataframe\">\n",
       "  <thead>\n",
       "    <tr style=\"text-align: right;\">\n",
       "      <th></th>\n",
       "      <th>word_count</th>\n",
       "    </tr>\n",
       "    <tr>\n",
       "      <th>artist</th>\n",
       "      <th></th>\n",
       "    </tr>\n",
       "  </thead>\n",
       "  <tbody>\n",
       "    <tr>\n",
       "      <th>Lady_Gaga</th>\n",
       "      <td>40379</td>\n",
       "    </tr>\n",
       "    <tr>\n",
       "      <th>Red_Hot_Chili_Peppers</th>\n",
       "      <td>44770</td>\n",
       "    </tr>\n",
       "    <tr>\n",
       "      <th>System_of_a_Down</th>\n",
       "      <td>13582</td>\n",
       "    </tr>\n",
       "  </tbody>\n",
       "</table>\n",
       "</div>"
      ],
      "text/plain": [
       "                       word_count\n",
       "artist                           \n",
       "Lady_Gaga                   40379\n",
       "Red_Hot_Chili_Peppers       44770\n",
       "System_of_a_Down            13582"
      ]
     },
     "execution_count": 118,
     "metadata": {},
     "output_type": "execute_result"
    }
   ],
   "source": [
    "df.groupby('artist').sum('word_count')"
   ]
  },
  {
   "cell_type": "code",
   "execution_count": 119,
   "metadata": {},
   "outputs": [
    {
     "data": {
      "image/png": "[encoded data removed]",
      "text/plain": [
       "<Figure size 432x288 with 1 Axes>"
      ]
     },
     "metadata": {
      "needs_background": "light"
     },
     "output_type": "display_data"
    }
   ],
   "source": [
    "sns.barplot(x='artist', y='word_count', estimator=sum, data=df, palette='flare', ci=None)\n",
    "plt.xlabel(' ')\n",
    "plt.ylabel('word sum')\n",
    "sns.despine()"
   ]
  },
  {
   "cell_type": "code",
   "execution_count": 120,
   "metadata": {},
   "outputs": [],
   "source": [
    "y = df['artist']\n",
    "X = df['songtext']"
   ]
  },
  {
   "cell_type": "markdown",
   "metadata": {},
   "source": [
    "## Train-Test-Split"
   ]
  },
  {
   "cell_type": "code",
   "execution_count": 121,
   "metadata": {},
   "outputs": [],
   "source": [
    "X_train, X_test, y_train, y_test = train_test_split(X,y)"
   ]
  },
  {
   "cell_type": "code",
   "execution_count": 122,
   "metadata": {},
   "outputs": [
    {
     "data": {
      "text/plain": [
       "((261,), (87,), (261,), (87,))"
      ]
     },
     "execution_count": 122,
     "metadata": {},
     "output_type": "execute_result"
    }
   ],
   "source": [
    "X_train.shape, X_test.shape, y_train.shape, y_test.shape"
   ]
  },
  {
   "cell_type": "markdown",
   "metadata": {},
   "source": [
    "# CountVectorizer"
   ]
  },
  {
   "cell_type": "markdown",
   "metadata": {},
   "source": [
    "## Train the Model"
   ]
  },
  {
   "cell_type": "code",
   "execution_count": 268,
   "metadata": {},
   "outputs": [
    {
     "data": {
      "text/plain": [
       "Pipeline(steps=[('countvectorizer',\n",
       "                 CountVectorizer(max_df=0.85, min_df=2, stop_words='english')),\n",
       "                ('randomforestclassifier',\n",
       "                 RandomForestClassifier(ccp_alpha=0.0001,\n",
       "                                        class_weight='balanced', max_depth=10,\n",
       "                                        n_estimators=50))])"
      ]
     },
     "execution_count": 268,
     "metadata": {},
     "output_type": "execute_result"
    }
   ],
   "source": [
    "model_CV = make_pipeline(\n",
    "    CountVectorizer(stop_words='english',ngram_range=(1,1), min_df=2, max_df=0.85),\n",
    "    RandomForestClassifier(max_depth=10, n_estimators=50, class_weight='balanced', ccp_alpha=0.0001)\n",
    ")\n",
    "model_CV.fit(X_train, y_train)"
   ]
  },
  {
   "cell_type": "code",
   "execution_count": 269,
   "metadata": {},
   "outputs": [],
   "source": [
    "cv_results = cross_validate(\n",
    "    estimator=model_CV,             # the model you want to evaluate \n",
    "    X=X_train,                     # the training input data \n",
    "    y=y_train,                     # the training output data  \n",
    "    cv=5,                    # number of cross validation datasets \n",
    "    scoring='accuracy',          # evaluation metric \n",
    "    return_train_score=True,   # return both the score on the training and the cross validated data\n",
    "    n_jobs=1                   # n_jobs = -1 for using all your processores\n",
    ")"
   ]
  },
  {
   "cell_type": "code",
   "execution_count": 270,
   "metadata": {},
   "outputs": [
    {
     "data": {
      "text/html": [
       "<div>\n",
       "<style scoped>\n",
       "    .dataframe tbody tr th:only-of-type {\n",
       "        vertical-align: middle;\n",
       "    }\n",
       "\n",
       "    .dataframe tbody tr th {\n",
       "        vertical-align: top;\n",
       "    }\n",
       "\n",
       "    .dataframe thead th {\n",
       "        text-align: right;\n",
       "    }\n",
       "</style>\n",
       "<table border=\"1\" class=\"dataframe\">\n",
       "  <thead>\n",
       "    <tr style=\"text-align: right;\">\n",
       "      <th></th>\n",
       "      <th>fit_time</th>\n",
       "      <th>score_time</th>\n",
       "      <th>test_score</th>\n",
       "      <th>train_score</th>\n",
       "    </tr>\n",
       "  </thead>\n",
       "  <tbody>\n",
       "    <tr>\n",
       "      <th>0</th>\n",
       "      <td>0.097219</td>\n",
       "      <td>0.011031</td>\n",
       "      <td>0.679245</td>\n",
       "      <td>0.971154</td>\n",
       "    </tr>\n",
       "    <tr>\n",
       "      <th>1</th>\n",
       "      <td>0.089508</td>\n",
       "      <td>0.010513</td>\n",
       "      <td>0.634615</td>\n",
       "      <td>0.966507</td>\n",
       "    </tr>\n",
       "    <tr>\n",
       "      <th>2</th>\n",
       "      <td>0.089058</td>\n",
       "      <td>0.011530</td>\n",
       "      <td>0.769231</td>\n",
       "      <td>0.952153</td>\n",
       "    </tr>\n",
       "    <tr>\n",
       "      <th>3</th>\n",
       "      <td>0.096001</td>\n",
       "      <td>0.012468</td>\n",
       "      <td>0.711538</td>\n",
       "      <td>0.971292</td>\n",
       "    </tr>\n",
       "    <tr>\n",
       "      <th>4</th>\n",
       "      <td>0.095119</td>\n",
       "      <td>0.011246</td>\n",
       "      <td>0.711538</td>\n",
       "      <td>0.971292</td>\n",
       "    </tr>\n",
       "  </tbody>\n",
       "</table>\n",
       "</div>"
      ],
      "text/plain": [
       "   fit_time  score_time  test_score  train_score\n",
       "0  0.097219    0.011031    0.679245     0.971154\n",
       "1  0.089508    0.010513    0.634615     0.966507\n",
       "2  0.089058    0.011530    0.769231     0.952153\n",
       "3  0.096001    0.012468    0.711538     0.971292\n",
       "4  0.095119    0.011246    0.711538     0.971292"
      ]
     },
     "execution_count": 270,
     "metadata": {},
     "output_type": "execute_result"
    }
   ],
   "source": [
    "# show results in dataframe\n",
    "df_cv_results = pd.DataFrame(cv_results)\n",
    "df_cv_results"
   ]
  },
  {
   "cell_type": "code",
   "execution_count": 271,
   "metadata": {},
   "outputs": [],
   "source": [
    "grid_CV = {\n",
    "    #'countvectorizer__ngram_range': [(1,1),(1,2)],\n",
    "    #'countvectorizer__min_df': [ 2,3,4,5,6],\n",
    "    'countvectorizer__max_df': [ 0.7, 0.8, 0.9],\n",
    "    #'randomforestclassifier__ccp_alpha': [ 0.00001, 0.0001, 0.001],    \n",
    "    #'randomforestclassifier__n_estimators': [50,100, 200],\n",
    "    #'randomforestclassifier__max_depth': [5, 10, 15, 20]\n",
    "       }"
   ]
  },
  {
   "cell_type": "code",
   "execution_count": 272,
   "metadata": {},
   "outputs": [
    {
     "data": {
      "text/plain": [
       "GridSearchCV(cv=5,\n",
       "             estimator=Pipeline(steps=[('countvectorizer',\n",
       "                                        CountVectorizer(max_df=0.85, min_df=2,\n",
       "                                                        stop_words='english')),\n",
       "                                       ('randomforestclassifier',\n",
       "                                        RandomForestClassifier(ccp_alpha=0.0001,\n",
       "                                                               class_weight='balanced',\n",
       "                                                               max_depth=10,\n",
       "                                                               n_estimators=50))]),\n",
       "             n_jobs=-1, param_grid={'countvectorizer__max_df': [0.7, 0.8, 0.9]},\n",
       "             return_train_score=True, scoring='accuracy')"
      ]
     },
     "execution_count": 272,
     "metadata": {},
     "output_type": "execute_result"
    }
   ],
   "source": [
    "# define the gridsearch \n",
    "cv = GridSearchCV(\n",
    "    model_CV, \n",
    "    param_grid=grid_CV, \n",
    "    scoring=('accuracy'), \n",
    "    return_train_score=True, \n",
    "    cv=5,\n",
    "    n_jobs=-1\n",
    ")\n",
    "\n",
    "# fit it\n",
    "cv.fit(X_train, y_train)"
   ]
  },
  {
   "cell_type": "code",
   "execution_count": 273,
   "metadata": {},
   "outputs": [
    {
     "data": {
      "text/plain": [
       "dict_keys(['mean_fit_time', 'std_fit_time', 'mean_score_time', 'std_score_time', 'param_countvectorizer__max_df', 'params', 'split0_test_score', 'split1_test_score', 'split2_test_score', 'split3_test_score', 'split4_test_score', 'mean_test_score', 'std_test_score', 'rank_test_score', 'split0_train_score', 'split1_train_score', 'split2_train_score', 'split3_train_score', 'split4_train_score', 'mean_train_score', 'std_train_score'])"
      ]
     },
     "execution_count": 273,
     "metadata": {},
     "output_type": "execute_result"
    }
   ],
   "source": [
    "cv.cv_results_.keys()"
   ]
  },
  {
   "cell_type": "code",
   "execution_count": 274,
   "metadata": {},
   "outputs": [
    {
     "data": {
      "text/html": [
       "<div>\n",
       "<style scoped>\n",
       "    .dataframe tbody tr th:only-of-type {\n",
       "        vertical-align: middle;\n",
       "    }\n",
       "\n",
       "    .dataframe tbody tr th {\n",
       "        vertical-align: top;\n",
       "    }\n",
       "\n",
       "    .dataframe thead th {\n",
       "        text-align: right;\n",
       "    }\n",
       "</style>\n",
       "<table border=\"1\" class=\"dataframe\">\n",
       "  <thead>\n",
       "    <tr style=\"text-align: right;\">\n",
       "      <th></th>\n",
       "      <th>param_countvectorizer__max_df</th>\n",
       "      <th>mean_train_score</th>\n",
       "      <th>mean_test_score</th>\n",
       "      <th>rank_test_score</th>\n",
       "    </tr>\n",
       "  </thead>\n",
       "  <tbody>\n",
       "    <tr>\n",
       "      <th>1</th>\n",
       "      <td>0.8</td>\n",
       "      <td>0.963604</td>\n",
       "      <td>0.685704</td>\n",
       "      <td>1</td>\n",
       "    </tr>\n",
       "    <tr>\n",
       "      <th>0</th>\n",
       "      <td>0.7</td>\n",
       "      <td>0.968398</td>\n",
       "      <td>0.678229</td>\n",
       "      <td>2</td>\n",
       "    </tr>\n",
       "    <tr>\n",
       "      <th>2</th>\n",
       "      <td>0.9</td>\n",
       "      <td>0.958806</td>\n",
       "      <td>0.628229</td>\n",
       "      <td>3</td>\n",
       "    </tr>\n",
       "  </tbody>\n",
       "</table>\n",
       "</div>"
      ],
      "text/plain": [
       "  param_countvectorizer__max_df  mean_train_score  mean_test_score  \\\n",
       "1                           0.8          0.963604         0.685704   \n",
       "0                           0.7          0.968398         0.678229   \n",
       "2                           0.9          0.958806         0.628229   \n",
       "\n",
       "   rank_test_score  \n",
       "1                1  \n",
       "0                2  \n",
       "2                3  "
      ]
     },
     "execution_count": 274,
     "metadata": {},
     "output_type": "execute_result"
    }
   ],
   "source": [
    "cols = [\n",
    "    #'param_randomforestclassifier__ccp_alpha',\n",
    "    #'param_countvectorizer__ngram_range',\n",
    "    'param_countvectorizer__max_df',\n",
    "    #'param_countvectorizer__min_df',\n",
    "    #'param_randomforestclassifier__n_estimators', \n",
    "    #'param_randomforestclassifier__max_depth',\n",
    "    'mean_train_score', \n",
    "    'mean_test_score',\n",
    "    'rank_test_score',\n",
    "]\n",
    "cv_results = pd.DataFrame(cv.cv_results_)\n",
    "cv_results[cols].sort_values('rank_test_score').head(10)"
   ]
  },
  {
   "cell_type": "code",
   "execution_count": 275,
   "metadata": {},
   "outputs": [
    {
     "data": {
      "text/plain": [
       "{'countvectorizer__max_df': 0.8}"
      ]
     },
     "execution_count": 275,
     "metadata": {},
     "output_type": "execute_result"
    }
   ],
   "source": [
    "cv.best_params_"
   ]
  },
  {
   "cell_type": "code",
   "execution_count": 276,
   "metadata": {},
   "outputs": [
    {
     "data": {
      "text/plain": [
       "Pipeline(steps=[('countvectorizer',\n",
       "                 CountVectorizer(max_df=0.85, min_df=2, stop_words='english')),\n",
       "                ('randomforestclassifier',\n",
       "                 RandomForestClassifier(ccp_alpha=0.0001,\n",
       "                                        class_weight='balanced', max_depth=10,\n",
       "                                        n_estimators=50))])"
      ]
     },
     "execution_count": 276,
     "metadata": {},
     "output_type": "execute_result"
    }
   ],
   "source": [
    "#best_cv = cv.best_estimator_\n",
    "best_cv = model_CV\n",
    "best_cv"
   ]
  },
  {
   "cell_type": "markdown",
   "metadata": {},
   "source": [
    "### Test Best Model again with cross validation"
   ]
  },
  {
   "cell_type": "code",
   "execution_count": 277,
   "metadata": {},
   "outputs": [],
   "source": [
    "cv_results = cross_validate(\n",
    "    estimator=best_cv,             # the model you want to evaluate \n",
    "    X=X_train,                     # the training input data \n",
    "    y=y_train,                     # the training output data  \n",
    "    cv=5,                    # number of cross validation datasets \n",
    "    scoring='accuracy',          # evaluation metric \n",
    "    return_train_score=True,   # return both the score on the training and the cross validated data\n",
    "    n_jobs=1                   # n_jobs = -1 for using all your processores\n",
    ")"
   ]
  },
  {
   "cell_type": "code",
   "execution_count": 278,
   "metadata": {},
   "outputs": [
    {
     "data": {
      "text/html": [
       "<div>\n",
       "<style scoped>\n",
       "    .dataframe tbody tr th:only-of-type {\n",
       "        vertical-align: middle;\n",
       "    }\n",
       "\n",
       "    .dataframe tbody tr th {\n",
       "        vertical-align: top;\n",
       "    }\n",
       "\n",
       "    .dataframe thead th {\n",
       "        text-align: right;\n",
       "    }\n",
       "</style>\n",
       "<table border=\"1\" class=\"dataframe\">\n",
       "  <thead>\n",
       "    <tr style=\"text-align: right;\">\n",
       "      <th></th>\n",
       "      <th>fit_time</th>\n",
       "      <th>score_time</th>\n",
       "      <th>test_score</th>\n",
       "      <th>train_score</th>\n",
       "    </tr>\n",
       "  </thead>\n",
       "  <tbody>\n",
       "    <tr>\n",
       "      <th>0</th>\n",
       "      <td>0.114163</td>\n",
       "      <td>0.011512</td>\n",
       "      <td>0.660377</td>\n",
       "      <td>0.961538</td>\n",
       "    </tr>\n",
       "    <tr>\n",
       "      <th>1</th>\n",
       "      <td>0.106754</td>\n",
       "      <td>0.012755</td>\n",
       "      <td>0.615385</td>\n",
       "      <td>0.966507</td>\n",
       "    </tr>\n",
       "    <tr>\n",
       "      <th>2</th>\n",
       "      <td>0.101846</td>\n",
       "      <td>0.012180</td>\n",
       "      <td>0.711538</td>\n",
       "      <td>0.952153</td>\n",
       "    </tr>\n",
       "    <tr>\n",
       "      <th>3</th>\n",
       "      <td>0.084979</td>\n",
       "      <td>0.008813</td>\n",
       "      <td>0.653846</td>\n",
       "      <td>0.942584</td>\n",
       "    </tr>\n",
       "    <tr>\n",
       "      <th>4</th>\n",
       "      <td>0.090356</td>\n",
       "      <td>0.010651</td>\n",
       "      <td>0.596154</td>\n",
       "      <td>0.961722</td>\n",
       "    </tr>\n",
       "  </tbody>\n",
       "</table>\n",
       "</div>"
      ],
      "text/plain": [
       "   fit_time  score_time  test_score  train_score\n",
       "0  0.114163    0.011512    0.660377     0.961538\n",
       "1  0.106754    0.012755    0.615385     0.966507\n",
       "2  0.101846    0.012180    0.711538     0.952153\n",
       "3  0.084979    0.008813    0.653846     0.942584\n",
       "4  0.090356    0.010651    0.596154     0.961722"
      ]
     },
     "execution_count": 278,
     "metadata": {},
     "output_type": "execute_result"
    }
   ],
   "source": [
    "# show results in dataframe\n",
    "df_cv_results = pd.DataFrame(cv_results)\n",
    "df_cv_results"
   ]
  },
  {
   "cell_type": "markdown",
   "metadata": {},
   "source": [
    "### Fit best model on complete Training Data"
   ]
  },
  {
   "cell_type": "code",
   "execution_count": 279,
   "metadata": {},
   "outputs": [
    {
     "data": {
      "text/plain": [
       "Pipeline(steps=[('countvectorizer',\n",
       "                 CountVectorizer(max_df=0.85, min_df=2, stop_words='english')),\n",
       "                ('randomforestclassifier',\n",
       "                 RandomForestClassifier(ccp_alpha=0.0001,\n",
       "                                        class_weight='balanced', max_depth=10,\n",
       "                                        n_estimators=50))])"
      ]
     },
     "execution_count": 279,
     "metadata": {},
     "output_type": "execute_result"
    }
   ],
   "source": [
    "best_cv.fit(X_train, y_train)"
   ]
  },
  {
   "cell_type": "code",
   "execution_count": 280,
   "metadata": {},
   "outputs": [],
   "source": [
    "# writing\n",
    "with open('./data/best_model_CV.pickle', 'wb') as file:\n",
    "    pickle.dump(best_cv, file)"
   ]
  },
  {
   "cell_type": "markdown",
   "metadata": {},
   "source": [
    "### Test Model on Training Data"
   ]
  },
  {
   "cell_type": "code",
   "execution_count": 281,
   "metadata": {},
   "outputs": [],
   "source": [
    "y_train_pred = best_cv.predict(X_train)"
   ]
  },
  {
   "cell_type": "code",
   "execution_count": 282,
   "metadata": {},
   "outputs": [
    {
     "data": {
      "text/plain": [
       "0.9501915708812261"
      ]
     },
     "execution_count": 282,
     "metadata": {},
     "output_type": "execute_result"
    }
   ],
   "source": [
    "metrics.accuracy_score(y_train, y_train_pred)"
   ]
  },
  {
   "cell_type": "markdown",
   "metadata": {},
   "source": [
    "### Baseline Model"
   ]
  },
  {
   "cell_type": "code",
   "execution_count": 283,
   "metadata": {},
   "outputs": [],
   "source": [
    "y_pred = ['Red_Hot_Chili_Peppers']*len(y_test)"
   ]
  },
  {
   "cell_type": "code",
   "execution_count": 284,
   "metadata": {},
   "outputs": [
    {
     "data": {
      "text/plain": [
       "0.5057471264367817"
      ]
     },
     "execution_count": 284,
     "metadata": {},
     "output_type": "execute_result"
    }
   ],
   "source": [
    "metrics.accuracy_score(y_test, y_pred)"
   ]
  },
  {
   "cell_type": "markdown",
   "metadata": {},
   "source": [
    "### Test Model on Test Data"
   ]
  },
  {
   "cell_type": "code",
   "execution_count": 285,
   "metadata": {},
   "outputs": [],
   "source": [
    "y_test_pred = best_cv.predict(X_test)"
   ]
  },
  {
   "cell_type": "code",
   "execution_count": 286,
   "metadata": {},
   "outputs": [
    {
     "data": {
      "text/plain": [
       "0.6436781609195402"
      ]
     },
     "execution_count": 286,
     "metadata": {},
     "output_type": "execute_result"
    }
   ],
   "source": [
    "metrics.accuracy_score(y_test, y_test_pred)"
   ]
  },
  {
   "cell_type": "code",
   "execution_count": 287,
   "metadata": {},
   "outputs": [
    {
     "data": {
      "image/png": "[encoded data removed]",
      "text/plain": [
       "<Figure size 432x288 with 2 Axes>"
      ]
     },
     "metadata": {
      "needs_background": "light"
     },
     "output_type": "display_data"
    }
   ],
   "source": [
    "metrics.plot_confusion_matrix(best_cv, X_test, y_test, cmap='flare', normalize='true', xticks_rotation='vertical')\n",
    "plt.savefig('./output/confusion_matrix.jpg', bbox_inches='tight')"
   ]
  },
  {
   "cell_type": "markdown",
   "metadata": {},
   "source": [
    "## Result Evaluation"
   ]
  },
  {
   "cell_type": "code",
   "execution_count": 309,
   "metadata": {},
   "outputs": [],
   "source": [
    "X_train_trans = best_cv[0].fit_transform(X_train)\n",
    "X_train_trans = pd.DataFrame(X_train_trans.todense(), index=y_train, columns=best_cv[0].get_feature_names())\n",
    "X_train_trans.index.rename('index', inplace=True)"
   ]
  },
  {
   "cell_type": "code",
   "execution_count": 310,
   "metadata": {},
   "outputs": [
    {
     "data": {
      "text/html": [
       "<div>\n",
       "<style scoped>\n",
       "    .dataframe tbody tr th:only-of-type {\n",
       "        vertical-align: middle;\n",
       "    }\n",
       "\n",
       "    .dataframe tbody tr th {\n",
       "        vertical-align: top;\n",
       "    }\n",
       "\n",
       "    .dataframe thead th {\n",
       "        text-align: right;\n",
       "    }\n",
       "</style>\n",
       "<table border=\"1\" class=\"dataframe\">\n",
       "  <thead>\n",
       "    <tr style=\"text-align: right;\">\n",
       "      <th></th>\n",
       "      <th>able</th>\n",
       "      <th>aboard</th>\n",
       "      <th>absurd</th>\n",
       "      <th>act</th>\n",
       "      <th>acting</th>\n",
       "      <th>addicted</th>\n",
       "      <th>adjust</th>\n",
       "      <th>adored</th>\n",
       "      <th>affection</th>\n",
       "      <th>afford</th>\n",
       "      <th>...</th>\n",
       "      <th>yell</th>\n",
       "      <th>yellow</th>\n",
       "      <th>yes</th>\n",
       "      <th>yesterday</th>\n",
       "      <th>yo</th>\n",
       "      <th>york</th>\n",
       "      <th>young</th>\n",
       "      <th>youth</th>\n",
       "      <th>zephyr</th>\n",
       "      <th>zone</th>\n",
       "    </tr>\n",
       "    <tr>\n",
       "      <th>index</th>\n",
       "      <th></th>\n",
       "      <th></th>\n",
       "      <th></th>\n",
       "      <th></th>\n",
       "      <th></th>\n",
       "      <th></th>\n",
       "      <th></th>\n",
       "      <th></th>\n",
       "      <th></th>\n",
       "      <th></th>\n",
       "      <th></th>\n",
       "      <th></th>\n",
       "      <th></th>\n",
       "      <th></th>\n",
       "      <th></th>\n",
       "      <th></th>\n",
       "      <th></th>\n",
       "      <th></th>\n",
       "      <th></th>\n",
       "      <th></th>\n",
       "      <th></th>\n",
       "    </tr>\n",
       "  </thead>\n",
       "  <tbody>\n",
       "    <tr>\n",
       "      <th>Red_Hot_Chili_Peppers</th>\n",
       "      <td>0</td>\n",
       "      <td>0</td>\n",
       "      <td>0</td>\n",
       "      <td>0</td>\n",
       "      <td>0</td>\n",
       "      <td>0</td>\n",
       "      <td>0</td>\n",
       "      <td>0</td>\n",
       "      <td>0</td>\n",
       "      <td>0</td>\n",
       "      <td>...</td>\n",
       "      <td>0</td>\n",
       "      <td>0</td>\n",
       "      <td>0</td>\n",
       "      <td>0</td>\n",
       "      <td>0</td>\n",
       "      <td>0</td>\n",
       "      <td>0</td>\n",
       "      <td>0</td>\n",
       "      <td>0</td>\n",
       "      <td>0</td>\n",
       "    </tr>\n",
       "    <tr>\n",
       "      <th>Lady_Gaga</th>\n",
       "      <td>0</td>\n",
       "      <td>0</td>\n",
       "      <td>0</td>\n",
       "      <td>0</td>\n",
       "      <td>0</td>\n",
       "      <td>0</td>\n",
       "      <td>0</td>\n",
       "      <td>0</td>\n",
       "      <td>0</td>\n",
       "      <td>0</td>\n",
       "      <td>...</td>\n",
       "      <td>0</td>\n",
       "      <td>0</td>\n",
       "      <td>0</td>\n",
       "      <td>0</td>\n",
       "      <td>0</td>\n",
       "      <td>0</td>\n",
       "      <td>0</td>\n",
       "      <td>0</td>\n",
       "      <td>0</td>\n",
       "      <td>0</td>\n",
       "    </tr>\n",
       "    <tr>\n",
       "      <th>System_of_a_Down</th>\n",
       "      <td>0</td>\n",
       "      <td>0</td>\n",
       "      <td>0</td>\n",
       "      <td>0</td>\n",
       "      <td>0</td>\n",
       "      <td>0</td>\n",
       "      <td>0</td>\n",
       "      <td>0</td>\n",
       "      <td>0</td>\n",
       "      <td>0</td>\n",
       "      <td>...</td>\n",
       "      <td>0</td>\n",
       "      <td>0</td>\n",
       "      <td>0</td>\n",
       "      <td>0</td>\n",
       "      <td>0</td>\n",
       "      <td>0</td>\n",
       "      <td>0</td>\n",
       "      <td>0</td>\n",
       "      <td>0</td>\n",
       "      <td>0</td>\n",
       "    </tr>\n",
       "    <tr>\n",
       "      <th>System_of_a_Down</th>\n",
       "      <td>3</td>\n",
       "      <td>0</td>\n",
       "      <td>0</td>\n",
       "      <td>0</td>\n",
       "      <td>0</td>\n",
       "      <td>0</td>\n",
       "      <td>0</td>\n",
       "      <td>0</td>\n",
       "      <td>0</td>\n",
       "      <td>0</td>\n",
       "      <td>...</td>\n",
       "      <td>0</td>\n",
       "      <td>1</td>\n",
       "      <td>0</td>\n",
       "      <td>0</td>\n",
       "      <td>0</td>\n",
       "      <td>0</td>\n",
       "      <td>0</td>\n",
       "      <td>0</td>\n",
       "      <td>0</td>\n",
       "      <td>0</td>\n",
       "    </tr>\n",
       "    <tr>\n",
       "      <th>System_of_a_Down</th>\n",
       "      <td>0</td>\n",
       "      <td>0</td>\n",
       "      <td>0</td>\n",
       "      <td>0</td>\n",
       "      <td>0</td>\n",
       "      <td>0</td>\n",
       "      <td>0</td>\n",
       "      <td>0</td>\n",
       "      <td>0</td>\n",
       "      <td>0</td>\n",
       "      <td>...</td>\n",
       "      <td>0</td>\n",
       "      <td>0</td>\n",
       "      <td>0</td>\n",
       "      <td>0</td>\n",
       "      <td>0</td>\n",
       "      <td>0</td>\n",
       "      <td>0</td>\n",
       "      <td>0</td>\n",
       "      <td>0</td>\n",
       "      <td>0</td>\n",
       "    </tr>\n",
       "  </tbody>\n",
       "</table>\n",
       "<p>5 rows × 1937 columns</p>\n",
       "</div>"
      ],
      "text/plain": [
       "                       able  aboard  absurd  act  acting  addicted  adjust  \\\n",
       "index                                                                        \n",
       "Red_Hot_Chili_Peppers     0       0       0    0       0         0       0   \n",
       "Lady_Gaga                 0       0       0    0       0         0       0   \n",
       "System_of_a_Down          0       0       0    0       0         0       0   \n",
       "System_of_a_Down          3       0       0    0       0         0       0   \n",
       "System_of_a_Down          0       0       0    0       0         0       0   \n",
       "\n",
       "                       adored  affection  afford  ...  yell  yellow  yes  \\\n",
       "index                                             ...                      \n",
       "Red_Hot_Chili_Peppers       0          0       0  ...     0       0    0   \n",
       "Lady_Gaga                   0          0       0  ...     0       0    0   \n",
       "System_of_a_Down            0          0       0  ...     0       0    0   \n",
       "System_of_a_Down            0          0       0  ...     0       1    0   \n",
       "System_of_a_Down            0          0       0  ...     0       0    0   \n",
       "\n",
       "                       yesterday  yo  york  young  youth  zephyr  zone  \n",
       "index                                                                   \n",
       "Red_Hot_Chili_Peppers          0   0     0      0      0       0     0  \n",
       "Lady_Gaga                      0   0     0      0      0       0     0  \n",
       "System_of_a_Down               0   0     0      0      0       0     0  \n",
       "System_of_a_Down               0   0     0      0      0       0     0  \n",
       "System_of_a_Down               0   0     0      0      0       0     0  \n",
       "\n",
       "[5 rows x 1937 columns]"
      ]
     },
     "execution_count": 310,
     "metadata": {},
     "output_type": "execute_result"
    }
   ],
   "source": [
    "X_train_trans.head()"
   ]
  },
  {
   "cell_type": "code",
   "execution_count": 311,
   "metadata": {},
   "outputs": [],
   "source": [
    "top_words = X_train_trans.sum(axis=0).sort_values(ascending=False)[:20]"
   ]
  },
  {
   "cell_type": "code",
   "execution_count": 331,
   "metadata": {},
   "outputs": [
    {
     "data": {
      "image/png": "[encoded data removed]",
      "text/plain": [
       "<Figure size 1296x360 with 1 Axes>"
      ]
     },
     "metadata": {
      "needs_background": "light"
     },
     "output_type": "display_data"
    }
   ],
   "source": [
    "plt.figure(figsize=(18,5))\n",
    "sns.barplot(x=top_words.index, y=top_words, palette='flare')\n",
    "sns.despine()\n",
    "plt.ylabel('count')\n",
    "plt.xticks(rotation=90)\n",
    "#plt.show()\n",
    "\n",
    "plt.savefig('./output/word_count_model.jpg', bbox_inches='tight')"
   ]
  },
  {
   "cell_type": "code",
   "execution_count": 313,
   "metadata": {},
   "outputs": [],
   "source": [
    "df_words_artists = X_train_trans.groupby('index').sum().transpose()\n",
    "df_words_artists['total'] = df_words_artists.sum(axis=1)\n",
    "#df_words_artists"
   ]
  },
  {
   "cell_type": "code",
   "execution_count": 314,
   "metadata": {},
   "outputs": [
    {
     "data": {
      "text/html": [
       "<div>\n",
       "<style scoped>\n",
       "    .dataframe tbody tr th:only-of-type {\n",
       "        vertical-align: middle;\n",
       "    }\n",
       "\n",
       "    .dataframe tbody tr th {\n",
       "        vertical-align: top;\n",
       "    }\n",
       "\n",
       "    .dataframe thead th {\n",
       "        text-align: right;\n",
       "    }\n",
       "</style>\n",
       "<table border=\"1\" class=\"dataframe\">\n",
       "  <thead>\n",
       "    <tr style=\"text-align: right;\">\n",
       "      <th>index</th>\n",
       "      <th>Lady_Gaga</th>\n",
       "      <th>Red_Hot_Chili_Peppers</th>\n",
       "      <th>System_of_a_Down</th>\n",
       "      <th>total</th>\n",
       "    </tr>\n",
       "  </thead>\n",
       "  <tbody>\n",
       "    <tr>\n",
       "      <th>oh</th>\n",
       "      <td>609</td>\n",
       "      <td>157</td>\n",
       "      <td>36</td>\n",
       "      <td>802</td>\n",
       "    </tr>\n",
       "    <tr>\n",
       "      <th>love</th>\n",
       "      <td>442</td>\n",
       "      <td>212</td>\n",
       "      <td>11</td>\n",
       "      <td>665</td>\n",
       "    </tr>\n",
       "    <tr>\n",
       "      <th>like</th>\n",
       "      <td>207</td>\n",
       "      <td>163</td>\n",
       "      <td>33</td>\n",
       "      <td>403</td>\n",
       "    </tr>\n",
       "    <tr>\n",
       "      <th>know</th>\n",
       "      <td>158</td>\n",
       "      <td>159</td>\n",
       "      <td>63</td>\n",
       "      <td>380</td>\n",
       "    </tr>\n",
       "    <tr>\n",
       "      <th>want</th>\n",
       "      <td>211</td>\n",
       "      <td>135</td>\n",
       "      <td>27</td>\n",
       "      <td>373</td>\n",
       "    </tr>\n",
       "  </tbody>\n",
       "</table>\n",
       "</div>"
      ],
      "text/plain": [
       "index  Lady_Gaga  Red_Hot_Chili_Peppers  System_of_a_Down  total\n",
       "oh           609                    157                36    802\n",
       "love         442                    212                11    665\n",
       "like         207                    163                33    403\n",
       "know         158                    159                63    380\n",
       "want         211                    135                27    373"
      ]
     },
     "execution_count": 314,
     "metadata": {},
     "output_type": "execute_result"
    }
   ],
   "source": [
    "#df_words_artists.sort_values('total', ascending=False)\n",
    "df_top_20_words = df_words_artists.sort_values('total', ascending=False).iloc[:20,:]\n",
    "df_top_20_words.head()"
   ]
  },
  {
   "cell_type": "code",
   "execution_count": 315,
   "metadata": {},
   "outputs": [
    {
     "data": {
      "text/html": [
       "<div>\n",
       "<style scoped>\n",
       "    .dataframe tbody tr th:only-of-type {\n",
       "        vertical-align: middle;\n",
       "    }\n",
       "\n",
       "    .dataframe tbody tr th {\n",
       "        vertical-align: top;\n",
       "    }\n",
       "\n",
       "    .dataframe thead th {\n",
       "        text-align: right;\n",
       "    }\n",
       "</style>\n",
       "<table border=\"1\" class=\"dataframe\">\n",
       "  <thead>\n",
       "    <tr style=\"text-align: right;\">\n",
       "      <th>index</th>\n",
       "      <th>Lady_Gaga</th>\n",
       "      <th>Red_Hot_Chili_Peppers</th>\n",
       "      <th>System_of_a_Down</th>\n",
       "      <th>total</th>\n",
       "    </tr>\n",
       "  </thead>\n",
       "  <tbody>\n",
       "    <tr>\n",
       "      <th>oh</th>\n",
       "      <td>0.759352</td>\n",
       "      <td>0.195761</td>\n",
       "      <td>0.044888</td>\n",
       "      <td>802</td>\n",
       "    </tr>\n",
       "    <tr>\n",
       "      <th>love</th>\n",
       "      <td>0.664662</td>\n",
       "      <td>0.318797</td>\n",
       "      <td>0.016541</td>\n",
       "      <td>665</td>\n",
       "    </tr>\n",
       "    <tr>\n",
       "      <th>like</th>\n",
       "      <td>0.513648</td>\n",
       "      <td>0.404467</td>\n",
       "      <td>0.081886</td>\n",
       "      <td>403</td>\n",
       "    </tr>\n",
       "    <tr>\n",
       "      <th>know</th>\n",
       "      <td>0.415789</td>\n",
       "      <td>0.418421</td>\n",
       "      <td>0.165789</td>\n",
       "      <td>380</td>\n",
       "    </tr>\n",
       "    <tr>\n",
       "      <th>want</th>\n",
       "      <td>0.565684</td>\n",
       "      <td>0.361930</td>\n",
       "      <td>0.072386</td>\n",
       "      <td>373</td>\n",
       "    </tr>\n",
       "  </tbody>\n",
       "</table>\n",
       "</div>"
      ],
      "text/plain": [
       "index  Lady_Gaga  Red_Hot_Chili_Peppers  System_of_a_Down  total\n",
       "oh      0.759352               0.195761          0.044888    802\n",
       "love    0.664662               0.318797          0.016541    665\n",
       "like    0.513648               0.404467          0.081886    403\n",
       "know    0.415789               0.418421          0.165789    380\n",
       "want    0.565684               0.361930          0.072386    373"
      ]
     },
     "execution_count": 315,
     "metadata": {},
     "output_type": "execute_result"
    }
   ],
   "source": [
    "df_top_20_words_rel = df_top_20_words.copy()\n",
    "df_top_20_words_rel['Lady_Gaga']= df_top_20_words_rel['Lady_Gaga']/df_top_20_words_rel['total']\n",
    "df_top_20_words_rel['Red_Hot_Chili_Peppers']= df_top_20_words_rel['Red_Hot_Chili_Peppers']/df_top_20_words_rel['total']\n",
    "df_top_20_words_rel['System_of_a_Down']= df_top_20_words_rel['System_of_a_Down']/df_top_20_words_rel['total']\n",
    "df_top_20_words_rel.head()"
   ]
  },
  {
   "cell_type": "code",
   "execution_count": 316,
   "metadata": {},
   "outputs": [],
   "source": [
    "df_top_20_words = df_top_20_words.drop('total', axis=1)\n",
    "df_top_20_words_rel = df_top_20_words_rel.drop('total', axis=1)"
   ]
  },
  {
   "cell_type": "code",
   "execution_count": 317,
   "metadata": {},
   "outputs": [
    {
     "data": {
      "text/plain": [
       "<Figure size 1440x360 with 0 Axes>"
      ]
     },
     "metadata": {},
     "output_type": "display_data"
    },
    {
     "data": {
      "image/png": "[encoded data removed]",
      "text/plain": [
       "<Figure size 1296x360 with 1 Axes>"
      ]
     },
     "metadata": {
      "needs_background": "light"
     },
     "output_type": "display_data"
    }
   ],
   "source": [
    "plt.figure(figsize=(20,5))\n",
    "#sns.set(palette='flare')\n",
    "df_top_20_words.plot(kind='bar', stacked=True, figsize=(18,5), cmap='flare')\n",
    "plt.show()"
   ]
  },
  {
   "cell_type": "code",
   "execution_count": 336,
   "metadata": {},
   "outputs": [
    {
     "data": {
      "text/plain": [
       "<Figure size 1440x360 with 0 Axes>"
      ]
     },
     "metadata": {},
     "output_type": "display_data"
    },
    {
     "data": {
      "image/png": "[encoded data removed]",
      "text/plain": [
       "<Figure size 1296x360 with 1 Axes>"
      ]
     },
     "metadata": {
      "needs_background": "light"
     },
     "output_type": "display_data"
    }
   ],
   "source": [
    "plt.figure(figsize=(20,5))\n",
    "#sns.set(palette='flare')\n",
    "df_top_20_words_rel.plot(kind='bar', stacked=True, figsize=(18,5), cmap='flare')\n",
    "\n",
    "#plt.show()\n",
    "\n",
    "plt.savefig('./output/word_count_proportions.jpg', bbox_inches='tight')"
   ]
  },
  {
   "cell_type": "code",
   "execution_count": 337,
   "metadata": {},
   "outputs": [
    {
     "data": {
      "image/png": "[encoded data removed]",
      "text/plain": [
       "<Figure size 1296x360 with 1 Axes>"
      ]
     },
     "metadata": {
      "needs_background": "light"
     },
     "output_type": "display_data"
    }
   ],
   "source": [
    "x = df_words_artists['Lady_Gaga'].sort_values(ascending=False)[:25]\n",
    "\n",
    "plt.figure(figsize=(18,5))\n",
    "sns.barplot(x=x.index, y=x, palette='flare')\n",
    "sns.despine()\n",
    "plt.ylabel('count')\n",
    "plt.xticks(rotation=90)\n",
    "#plt.show()\n",
    "\n",
    "plt.savefig('./output/word_count_lady_gaga.jpg', bbox_inches='tight')"
   ]
  },
  {
   "cell_type": "code",
   "execution_count": 338,
   "metadata": {},
   "outputs": [
    {
     "data": {
      "image/png": "[encoded data removed]",
      "text/plain": [
       "<Figure size 1296x360 with 1 Axes>"
      ]
     },
     "metadata": {
      "needs_background": "light"
     },
     "output_type": "display_data"
    }
   ],
   "source": [
    "x = df_words_artists['Red_Hot_Chili_Peppers'].sort_values(ascending=False)[:25]\n",
    "\n",
    "plt.figure(figsize=(18,5))\n",
    "sns.barplot(x=x.index, y=x, palette='flare')\n",
    "sns.despine()\n",
    "plt.ylabel('count')\n",
    "plt.xticks(rotation=90)\n",
    "#plt.show()\n",
    "\n",
    "plt.savefig('./output/word_count_red_hot_chili_peppers.jpg', bbox_inches='tight')"
   ]
  },
  {
   "cell_type": "code",
   "execution_count": 342,
   "metadata": {},
   "outputs": [
    {
     "data": {
      "image/png": "[encoded data removed]",
      "text/plain": [
       "<Figure size 1296x360 with 1 Axes>"
      ]
     },
     "metadata": {
      "needs_background": "light"
     },
     "output_type": "display_data"
    }
   ],
   "source": [
    "x = df_words_artists['System_of_a_Down'].sort_values(ascending=False)[:25]\n",
    "\n",
    "plt.figure(figsize=(18,5))\n",
    "sns.barplot(x=x.index, y=x, palette='flare')\n",
    "sns.despine()\n",
    "plt.ylabel('count')\n",
    "plt.xticks(rotation=90)\n",
    "plt.title('Most frequent words of System of a Down')\n",
    "#plt.show()\n",
    "\n",
    "plt.savefig('./output/word_count_system_of_a_down.jpg', bbox_inches='tight')"
   ]
  }
 ],
 "metadata": {
  "kernelspec": {
   "display_name": "Python 3",
   "language": "python",
   "name": "python3"
  },
  "language_info": {
   "codemirror_mode": {
    "name": "ipython",
    "version": 3
   },
   "file_extension": ".py",
   "mimetype": "text/x-python",
   "name": "python",
   "nbconvert_exporter": "python",
   "pygments_lexer": "ipython3",
   "version": "3.8.5"
  }
 },
 "nbformat": 4,
 "nbformat_minor": 4
}
