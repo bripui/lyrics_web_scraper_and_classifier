{
 "cells": [
  {
   "cell_type": "code",
   "execution_count": 144,
   "metadata": {},
   "outputs": [],
   "source": [
    "import pandas as pd\n",
    "import re\n",
    "import requests\n",
    "import time\n",
    "from bs4 import BeautifulSoup\n",
    "import os"
   ]
  },
  {
   "cell_type": "code",
   "execution_count": 237,
   "metadata": {},
   "outputs": [],
   "source": [
    "domain = 'https://www.lyrics.com'\n",
    "artist = '/artist/Lady-Gaga/1055684'\n",
    "artist_name = 'Lady_Gaga'\n",
    "\n",
    "url = domain + artist\n",
    "\n",
    "headers = {\n",
    "    'User-Agent': 'Mozilla/5.0 (Macintosh; Intel Mac OS X 10_10_1) AppleWebKit/537.36 (KHTML, like Gecko) Chrome/39.0.2171.95 Safari/537.36'\n",
    "}"
   ]
  },
  {
   "cell_type": "code",
   "execution_count": 238,
   "metadata": {},
   "outputs": [],
   "source": [
    "r = requests.get(url, headers=headers)"
   ]
  },
  {
   "cell_type": "code",
   "execution_count": 228,
   "metadata": {},
   "outputs": [],
   "source": [
    "# save html string on the computer\n",
    "with open('./data/lyrics_twenty_one_pilots.html', mode='w') as file:\n",
    "    file.write(r.text)"
   ]
  },
  {
   "cell_type": "code",
   "execution_count": 229,
   "metadata": {},
   "outputs": [],
   "source": [
    "with open('./data/lyrics_twenty_one_pilots.html', mode='r') as file:\n",
    "    file.read()"
   ]
  },
  {
   "cell_type": "code",
   "execution_count": 231,
   "metadata": {},
   "outputs": [],
   "source": [
    "song_link = re.findall('<a href=\"(/lyric/\\d+/Twenty\\+One\\+Pilots/[\\w+\\+]+)\">', r.text)\n",
    "song_link = [domain + song for song in song_link]\n",
    "#for e in song_link:\n",
    "    #print(e)"
   ]
  },
  {
   "cell_type": "code",
   "execution_count": 139,
   "metadata": {},
   "outputs": [
    {
     "name": "stdout",
     "output_type": "stream",
     "text": [
      "['Cancer', 'Jumpsuit', 'Nico and the Niners', 'Levitate', 'My Blood', 'Jumpsuit', 'Levitate', 'Morph', 'My Blood', 'Chlorine', 'Smithereens', 'Neon Gravestones', 'The Hype', 'Nico and the Niners', 'Cut My Lip', 'Bandito', 'Pet Cheetah', 'Legend', 'Leave the City', 'Stressed Out', 'Stressed Out', 'Stressed Out', 'Cancer', 'Heathens', 'Stressed Out', 'Stressed Out', 'Stressed Out', 'Ride', 'Stressed Out', 'Heathens', 'Ode to Sleep', 'Holding on to You', 'Migraine', 'House of Gold', 'Car Radio', 'Screen', 'The Run and Go', 'Fake You Out', 'Guns for Hands', 'Trees', 'Truce', 'Heavydirtysoul', 'Stressed Out', 'Ride', 'Fairly Local', 'Tear in My Heart', 'Lane Boy', 'The Judge', 'Doubt', 'Polarize', 'Message Man', 'Hometown', 'Not Today', 'Goner', 'Heavydirtysoul', 'Stressed Out', 'Ride', 'Fairly Local', 'Tear In My Heart', 'Lane Boy', 'The Judge', 'Doubt', 'Polarize', 'Message Man', 'Hometown', 'Not Today', 'Goner', 'Stressed Out', 'Tear In My Heart', 'Ode to Sleep', 'Holding on to You', 'Migraine', 'House of Gold', 'Car Radio', 'Screen', 'The Run and Go', 'Fake You Out', 'Guns for Hands', 'Trees', 'Truce', 'Ode to Sleep', 'Holding on to You', 'Car Radio', 'Screen', 'The Run and Go', 'Fake You Out', 'Guns for Hands', 'Trees', 'Holding on to You', 'Guns For Hands', 'Migraine', 'Ode To Sleep', 'Guns For Hands', 'Holding On To You', 'Ode To Sleep', 'Slowdown', 'Car Radio', 'Forest', 'Glowing Eyes', 'Kitchen Sink', 'Anathema', 'Lovely', 'Ruby', 'Trees', 'Be Concerned', 'Clear', 'Implicit Demand for Proof', 'Fall Away', 'The Pantaloon', 'Addict With a Pen', 'March to the Sea', 'Air Catcher', 'Trapdoor', 'Taxi Cab', 'Before You Start Your Day', 'Isle of Flightless Birds', 'Pet Cheetah', 'Chlorine', 'Trees', 'The Hype', 'Ride', 'Car Radio', 'Stressed Out', 'Car Radio', 'Doubt', 'Christmas Saves The Year', 'Stressed Out', 'Level Of Concern', 'Heavydirtysoul', 'Doubt', 'Heavydirtysoul']\n"
     ]
    }
   ],
   "source": [
    "song_title = re.findall('<a href=\"/lyric/\\d+/Twenty\\+One\\+Pilots/[\\w+\\+]+\">([\\w+\\s]+)', r.text)\n",
    "print(song_title)"
   ]
  },
  {
   "cell_type": "code",
   "execution_count": null,
   "metadata": {},
   "outputs": [],
   "source": [
    "#link pattern\n",
    "#<a href=\"/lyric/28900746/Twenty+One+Pilots/Car+Radio\">Car Radio</a>"
   ]
  },
  {
   "cell_type": "code",
   "execution_count": 128,
   "metadata": {},
   "outputs": [],
   "source": [
    "for (title, link) in zip(song_title, song_link):\n",
    "    url = link\n",
    "    r = requests.get(url, headers=headers)\n",
    "    with open('./data/Twenty One Pilots - ' + title + '.html', mode='w') as file:\n",
    "        file.write(r.text)\n",
    "    time.sleep(0.5)"
   ]
  },
  {
   "cell_type": "markdown",
   "metadata": {},
   "source": [
    "## Extract the Lyrics"
   ]
  },
  {
   "cell_type": "code",
   "execution_count": 221,
   "metadata": {},
   "outputs": [],
   "source": [
    "lyrics = []\n",
    "artists = []\n",
    "song_names = []\n",
    "for file in os.listdir('./data/html/'):\n",
    "    if file.endswith('html'):\n",
    "        #print(file)\n",
    "        with open('./data/html/'+file, 'r') as f:\n",
    "            lyric_html = f.read()\n",
    "        soup = BeautifulSoup(lyric_html, 'html.parser')\n",
    "        lyric_all = soup.find_all(name='pre', class_='lyric-body')\n",
    "        text = lyric_all[0].get_text()\n",
    "        lyrics.append(text)\n",
    "        artist = file[:list(file).index('-')]\n",
    "        artists.append(artist)\n",
    "        song_name = file[list(file).index('-')+1:-5]\n",
    "        song_names.append(song_name)"
   ]
  },
  {
   "cell_type": "code",
   "execution_count": 222,
   "metadata": {},
   "outputs": [],
   "source": [
    "df_lyrics = pd.DataFrame({\n",
    "    'artist' : artists,\n",
    "    'song_name': song_names,\n",
    "    'songtext' : lyrics\n",
    "})"
   ]
  },
  {
   "cell_type": "code",
   "execution_count": 223,
   "metadata": {},
   "outputs": [
    {
     "data": {
      "text/html": [
       "<div>\n",
       "<style scoped>\n",
       "    .dataframe tbody tr th:only-of-type {\n",
       "        vertical-align: middle;\n",
       "    }\n",
       "\n",
       "    .dataframe tbody tr th {\n",
       "        vertical-align: top;\n",
       "    }\n",
       "\n",
       "    .dataframe thead th {\n",
       "        text-align: right;\n",
       "    }\n",
       "</style>\n",
       "<table border=\"1\" class=\"dataframe\">\n",
       "  <thead>\n",
       "    <tr style=\"text-align: right;\">\n",
       "      <th></th>\n",
       "      <th>artist</th>\n",
       "      <th>song_name</th>\n",
       "      <th>songtext</th>\n",
       "    </tr>\n",
       "  </thead>\n",
       "  <tbody>\n",
       "    <tr>\n",
       "      <th>0</th>\n",
       "      <td>Twenty_One_Pilots</td>\n",
       "      <td>Trapdoor</td>\n",
       "      <td>He wakes up early today\\nThrows on a mask that...</td>\n",
       "    </tr>\n",
       "    <tr>\n",
       "      <th>1</th>\n",
       "      <td>Twenty_One_Pilots</td>\n",
       "      <td>Pet_Cheetah</td>\n",
       "      <td>I am on an island, no one to confide\\nEight da...</td>\n",
       "    </tr>\n",
       "    <tr>\n",
       "      <th>2</th>\n",
       "      <td>Twenty_One_Pilots</td>\n",
       "      <td>Anathema</td>\n",
       "      <td>You will never know, what's behind my skull\\nS...</td>\n",
       "    </tr>\n",
       "    <tr>\n",
       "      <th>3</th>\n",
       "      <td>Twenty_One_Pilots</td>\n",
       "      <td>Ruby</td>\n",
       "      <td>Ruby I hope I see you, I've waited all this we...</td>\n",
       "    </tr>\n",
       "    <tr>\n",
       "      <th>4</th>\n",
       "      <td>Twenty_One_Pilots</td>\n",
       "      <td>Holding_on_to_You</td>\n",
       "      <td>I'm taking over my body\\nBack in control, no m...</td>\n",
       "    </tr>\n",
       "    <tr>\n",
       "      <th>...</th>\n",
       "      <td>...</td>\n",
       "      <td>...</td>\n",
       "      <td>...</td>\n",
       "    </tr>\n",
       "    <tr>\n",
       "      <th>56</th>\n",
       "      <td>Twenty_One_Pilots</td>\n",
       "      <td>Heavydirtysoul</td>\n",
       "      <td>There's an infestation in my mind's imaginatio...</td>\n",
       "    </tr>\n",
       "    <tr>\n",
       "      <th>57</th>\n",
       "      <td>Twenty_One_Pilots</td>\n",
       "      <td>My_Blood</td>\n",
       "      <td>When everyone you thought you knew\\nDeserts yo...</td>\n",
       "    </tr>\n",
       "    <tr>\n",
       "      <th>58</th>\n",
       "      <td>Twenty_One_Pilots</td>\n",
       "      <td>Forest</td>\n",
       "      <td>I don't know why I feed on emotion\\nThere's a ...</td>\n",
       "    </tr>\n",
       "    <tr>\n",
       "      <th>59</th>\n",
       "      <td>Twenty_One_Pilots</td>\n",
       "      <td>Heathens</td>\n",
       "      <td>All my friends are heathens, take it slow\\nWai...</td>\n",
       "    </tr>\n",
       "    <tr>\n",
       "      <th>60</th>\n",
       "      <td>Twenty_One_Pilots</td>\n",
       "      <td>Ride</td>\n",
       "      <td>I just wanna stay in the sun where I find\\nI k...</td>\n",
       "    </tr>\n",
       "  </tbody>\n",
       "</table>\n",
       "<p>61 rows × 3 columns</p>\n",
       "</div>"
      ],
      "text/plain": [
       "               artist          song_name  \\\n",
       "0   Twenty_One_Pilots           Trapdoor   \n",
       "1   Twenty_One_Pilots        Pet_Cheetah   \n",
       "2   Twenty_One_Pilots           Anathema   \n",
       "3   Twenty_One_Pilots               Ruby   \n",
       "4   Twenty_One_Pilots  Holding_on_to_You   \n",
       "..                ...                ...   \n",
       "56  Twenty_One_Pilots     Heavydirtysoul   \n",
       "57  Twenty_One_Pilots           My_Blood   \n",
       "58  Twenty_One_Pilots             Forest   \n",
       "59  Twenty_One_Pilots           Heathens   \n",
       "60  Twenty_One_Pilots               Ride   \n",
       "\n",
       "                                             songtext  \n",
       "0   He wakes up early today\\nThrows on a mask that...  \n",
       "1   I am on an island, no one to confide\\nEight da...  \n",
       "2   You will never know, what's behind my skull\\nS...  \n",
       "3   Ruby I hope I see you, I've waited all this we...  \n",
       "4   I'm taking over my body\\nBack in control, no m...  \n",
       "..                                                ...  \n",
       "56  There's an infestation in my mind's imaginatio...  \n",
       "57  When everyone you thought you knew\\nDeserts yo...  \n",
       "58  I don't know why I feed on emotion\\nThere's a ...  \n",
       "59  All my friends are heathens, take it slow\\nWai...  \n",
       "60  I just wanna stay in the sun where I find\\nI k...  \n",
       "\n",
       "[61 rows x 3 columns]"
      ]
     },
     "execution_count": 223,
     "metadata": {},
     "output_type": "execute_result"
    }
   ],
   "source": [
    "df_lyrics"
   ]
  },
  {
   "cell_type": "code",
   "execution_count": 225,
   "metadata": {},
   "outputs": [],
   "source": [
    "df_lyrics.to_csv('./data/Lyrics_Twenty_One_Pilots.csv', index=False)"
   ]
  },
  {
   "cell_type": "code",
   "execution_count": 314,
   "metadata": {},
   "outputs": [],
   "source": [
    "with open('./data/html/Red_Hot_Chili_Peppers-Hollywood.html', 'r') as file:\n",
    "    html_text = file.read()"
   ]
  },
  {
   "cell_type": "code",
   "execution_count": 315,
   "metadata": {},
   "outputs": [
    {
     "name": "stdout",
     "output_type": "stream",
     "text": [
      "lyrics found\n"
     ]
    }
   ],
   "source": [
    "if len(re.findall('no lyrics found', html_text)) > 0:\n",
    "    print('no lyrics found')\n",
    "else:\n",
    "    print('lyrics found')"
   ]
  },
  {
   "cell_type": "code",
   "execution_count": 323,
   "metadata": {},
   "outputs": [],
   "source": [
    "text = '''what you'll do'''"
   ]
  },
  {
   "cell_type": "code",
   "execution_count": 324,
   "metadata": {},
   "outputs": [
    {
     "data": {
      "text/plain": [
       "'what you will do'"
      ]
     },
     "execution_count": 324,
     "metadata": {},
     "output_type": "execute_result"
    }
   ],
   "source": [
    "text = text.replace('''you'll''', 'you will')\n",
    "text"
   ]
  },
  {
   "cell_type": "code",
   "execution_count": 325,
   "metadata": {},
   "outputs": [],
   "source": [
    "text = ''' I love YOu'''"
   ]
  },
  {
   "cell_type": "code",
   "execution_count": 326,
   "metadata": {},
   "outputs": [
    {
     "data": {
      "text/plain": [
       "' i love you'"
      ]
     },
     "execution_count": 326,
     "metadata": {},
     "output_type": "execute_result"
    }
   ],
   "source": [
    "text.lower()\n",
    "text."
   ]
  },
  {
   "cell_type": "code",
   "execution_count": null,
   "metadata": {},
   "outputs": [],
   "source": []
  }
 ],
 "metadata": {
  "kernelspec": {
   "display_name": "Python 3",
   "language": "python",
   "name": "python3"
  },
  "language_info": {
   "codemirror_mode": {
    "name": "ipython",
    "version": 3
   },
   "file_extension": ".py",
   "mimetype": "text/x-python",
   "name": "python",
   "nbconvert_exporter": "python",
   "pygments_lexer": "ipython3",
   "version": "3.8.5"
  }
 },
 "nbformat": 4,
 "nbformat_minor": 4
}
